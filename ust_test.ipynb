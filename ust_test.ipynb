{
  "cells": [
    {
      "cell_type": "markdown",
      "metadata": {
        "id": "view-in-github",
        "colab_type": "text"
      },
      "source": [
        "<a href=\"https://colab.research.google.com/github/sarath-777/Sarath_06_02_2025/blob/main/ust_test.ipynb\" target=\"_parent\"><img src=\"https://colab.research.google.com/assets/colab-badge.svg\" alt=\"Open In Colab\"/></a>"
      ]
    },
    {
      "cell_type": "markdown",
      "source": [
        "The below code extracts the content from the website"
      ],
      "metadata": {
        "id": "MiDiv8Db3oeN"
      }
    },
    {
      "cell_type": "markdown",
      "source": [],
      "metadata": {
        "id": "HCTgfQzW4fYH"
      }
    },
    {
      "cell_type": "code",
      "source": [
        "import requests\n",
        "from bs4 import BeautifulSoup\n",
        "\n",
        "def extract_main_content(url):\n",
        "    headers = {\"User-Agent\": \"Mozilla/5.0\"}  # Mimic a real browser\n",
        "    response = requests.get(url, headers=headers)\n",
        "\n",
        "    if response.status_code != 200:\n",
        "        return f\"Error: Unable to fetch page, status code {response.status_code}\"\n",
        "\n",
        "    soup = BeautifulSoup(response.text, \"html.parser\")\n",
        "\n",
        "    # Identify main content (adjust selectors if needed)\n",
        "    main_content = soup.find(\"article\") or soup.find(\"div\", {\"class\": \"content\"}) or soup.find(\"main\")\n",
        "\n",
        "    if not main_content:\n",
        "        return \"Error: Could not find main content section\"\n",
        "\n",
        "    # Remove unnecessary elements\n",
        "    for element in main_content.find_all([\"nav\", \"aside\", \"footer\", \"header\", \"script\", \"style\", \"form\", \"iframe\",\"table\"]):\n",
        "        element.decompose()\n",
        "    # Remove div with id 'catlinks'\n",
        "    catlinks = soup.find('div', {'id': 'catlinks'})\n",
        "    if catlinks:\n",
        "        catlinks.decompose()\n",
        "\n",
        "    # Extract clean text\n",
        "    # for element in main_content.find_all()\n",
        "    text_content = \"\\n\".join([p.get_text() for p in main_content.find_all([\"p\",\"ul\"]) if p.get_text().strip()])\n",
        "\n",
        "    return text_content\n",
        "\n",
        "# Example usage\n",
        "url = \"https://en.wikipedia.org/wiki/UST_(company)\"  # Replace with any website URL\n",
        "content = extract_main_content(url)\n",
        "print(content)\n"
      ],
      "metadata": {
        "id": "mvyPCwNtyftu",
        "outputId": "ff6fcfad-2815-44e4-f255-12c3844cedd8",
        "colab": {
          "base_uri": "https://localhost:8080/"
        }
      },
      "execution_count": 4,
      "outputs": [
        {
          "output_type": "stream",
          "name": "stdout",
          "text": [
            "UST, formerly known as UST Global, is a provider of digital technology and transformation, information technology and services, headquartered in Aliso Viejo, California, United States.[7] Stephen Ross founded UST in 1998 in Laguna Hills.[8] The company has offices in the Americas, EMEA, APAC, and India.[9][10][11]\n",
            "\n",
            "In June 2018, Temasek, Singapore’s sovereign wealth fund, invested US$250 million in UST, giving UST a US$1 billion-plus valuation.[12]\n",
            "\n",
            "UST offers services in many areas including: \n",
            "\n",
            "digital transformation,[13] cybersecurity, data analytics, data engineering, technology and digital consulting, supply chain management, cloud infrastructure, developer productivity, quality engineering, IT talent sourcing, innovation as a service, legacy modernization, human-centered design, AMS, semiconductor engineering, IOT engineering, intelligent process automation, artificial intelligence, machine learning, and technology strategy, intelligent automation and BPaaS.[14] Examples of specific services include:\n",
            "\n",
            "In 2020, UST released UST CloudDesk and UST MultiCloud Manager.[15] UST CloudDesk enables enterprises to move workloads between different cloud platforms. UST MultiCloud Manager, an IT-as-a-service platform, allows users to have a zero-touch, single-pane view of their entire IT environment.[16]\n",
            "\n",
            "UST offers development and operational services such as data management, analysis, and automation for DevSecOps, and digital and cloud transformation.[17] This includes PACE, a product used for implementing and optimizing cloud-native DevOps.[18]\n",
            "\n",
            "In July 2020, UST invested in Smart Software Testing Solutions (SSTS) Inc. to incorporate intelligent testing and digital validation for its Software Validation and Test Automation.[19] SSTS's platforms allow testers to perform manual and automation testing on more than 5000 device-browser combinations.[19]\n",
            "\n",
            "In July 2020, UST's company CyberProof became an official member of the Microsoft Intelligent Security Association.[20] CyberProof monitors security alerts and suspicious events collected from internal and external customer data sources and detects threats in cloud and on-premises infrastructure threats.[21]\n",
            "\n",
            "UST invests and acquires companies.[22]\n",
            "\n",
            "In January 2004, UST acquired eBuilt Inc.[23]\n",
            "In March 2012, Andare, a mobile applications company, was acquired by UST.[24] In January 2014, the company acquired Testhouse Consultores S.A., the Spanish arm of UK-based Testhouse Limited.[25][26]\n",
            "In May 2014, UST acquired Kanchi Technologies, a Milwaukee-based engineering company, and Xpanxion, a technology firm.[27][28] Xpanxion provides cloud-based business application development, mobile application development, software testing services, and technology and business consulting.[29]\n",
            "In July 2014, UST invested in xTV, an online TV platform, and acquired Renaissance Solutions, a Singapore-based recruitment specialist.[30][31] In April 2015, UST acquired FogPanel to boost cloud infrastructure management.[32]\n",
            "In September 2017, UST invested in MyDoc, a Singapore-based digital healthcare firm, to drive population-wide digital health programs, including disease management and health data tracking.[33]\n",
            "In January 2018, Cyberpoof, a cybersecurity company of UST, acquired Bisec, an Israeli startup that created a platform to help security teams collaborate.[34] The following month, UST acquired American technology startup and Gartner Cool Vendor, Pneuron in an effort to improve its data analytics services.[35][36] In September 2018, UST acquired SeviTech Systems, a chip design services firm based in Bengaluru.[37]\n",
            "In October 2019, the company acquired SCM Accelerators to help grow its SAP business.[19][38]\n",
            "In November 2019, UST acquired Contineo Health, a healthcare technology consulting firm that specializes in electronic health records (EHR), ComplyUSA, a compliance assessment and privacy automation platform, and AI startup, Cogniphi Technologies.[39][19][40]\n",
            "In December 2019, Necsia Cybersecurity Division was acquired.[19] The company is a security provider in Spain and the security division of Necsia Group, specializing in cybersecurity and digital transformation services.[41] The company was merged into the CyberProof security services portfolio after the acquisition.[41]\n",
            "In June 2020, UST invested €1.3 million in Ksubaka, a UK-based startup. The portfolio includes gamified tools to engage and keep customers safe post-covid.[42][43] The following month, UST invested in Smart Software Testing Solutions, a software testing and product company, that utilizes SaaS platforms pCloudy and OpKey.[19][44]\n",
            "In August 2020, UST invested in Tastry, an AI company that studies how human senses interpret product chemistry.[45]\n",
            "In July 2022, UST announced a strategic investment in Well-Beat, an Israeli start-up with a focus on patient-centred behavioural artificial intelligence (AI).[46]\n",
            "In October 2022, UST HealthProof, a UST company, has acquired Advantasure a Blue Cross Blue Shield - BCBS (M)[47] arm from MI, USA.  The Advantasure is a new brand formed in 2019 under BCBSM comprising other periodic and strategic acquisitions like Visiant, IkaSystems, Tessellate among many others.  The Advantasure is a PaaS platform for both Healthcare and BPO clients.\n",
            "In June 2018, Temasek, Singapore's sovereign wealth fund, invested $250 million in UST, giving UST a $1 billion-plus valuation.[48]\n",
            "UST is based in Orange County, California and has offices in more than 25 countries. It is based in the following regions: the Americas, EMEA, APAC, and India.[10][11]\n",
            "\n",
            "UST has started its expansion plans in India in the capital city of Kerala, Thiruvananthapuram, with the construction of its own campus, near Technopark.[49]  The campus is spread over 36 acres (150,000 m2).  The campus will also feature a 12-acre (49,000 m2) waterbody channeling through the various blocks of the campus.\n",
            "\n",
            "CyberProof is a fully owned subsidiary of UST and founded in 2017 in Tel Aviv, Israel.[50]\n",
            "\n",
            "The company is a security services company.\n",
            "\n",
            "In January 2018, UST acquired BISEC, a cybersecurity company, for 5.8 million Dollars and integrated the technology into CyberProof.[51]\n",
            "\n",
            "CyberProof is headquartered in Aliso Viejo, California, United States and has regional offices in London, United Kingdom; Trivandrum; Singapore and Barcelona, Spain. As of 2021, the company has approximately 500 employees worldwide. Although it has several offices, its operations have been primarily based in Tel Aviv, Israel, since its founding.\n",
            "\n",
            "Tony Velleca is the chief executive officer of CyberProof and is a chief information security officer at UST. Yuval Wollman is President of CyberProof and is responsible for the company's Israel-based Development & Operations.\n",
            "\n",
            "UST HealthProof is the healthcare technology division of UST. In 2023, UST HealthProof acquired healthcare technology company Advantasure.[52]\n",
            "\n",
            "In early 2008, California arbitrators ruled that US Technology Resources, LLC must pay Stephen J. Ross US $7.5 million for his founding interest in the company. The company had disputed the extent of Ross's actual contributions. The arbitration award was then confirmed by the Los Angeles Superior Court and judgment entered in Ross' favor.[53]\n",
            "\n"
          ]
        }
      ]
    },
    {
      "cell_type": "markdown",
      "source": [
        "Now from the extracted content we need to summarise the text content."
      ],
      "metadata": {
        "id": "jfcRzyRM4i4g"
      }
    },
    {
      "cell_type": "code",
      "source": [
        "pip install transformers\n"
      ],
      "metadata": {
        "id": "vSZNPriI4pVI",
        "outputId": "1361ad4b-d503-4018-c469-413b54182130",
        "colab": {
          "base_uri": "https://localhost:8080/"
        }
      },
      "execution_count": 5,
      "outputs": [
        {
          "output_type": "stream",
          "name": "stdout",
          "text": [
            "Requirement already satisfied: transformers in /usr/local/lib/python3.11/dist-packages (4.47.1)\n",
            "Requirement already satisfied: filelock in /usr/local/lib/python3.11/dist-packages (from transformers) (3.17.0)\n",
            "Requirement already satisfied: huggingface-hub<1.0,>=0.24.0 in /usr/local/lib/python3.11/dist-packages (from transformers) (0.27.1)\n",
            "Requirement already satisfied: numpy>=1.17 in /usr/local/lib/python3.11/dist-packages (from transformers) (1.26.4)\n",
            "Requirement already satisfied: packaging>=20.0 in /usr/local/lib/python3.11/dist-packages (from transformers) (24.2)\n",
            "Requirement already satisfied: pyyaml>=5.1 in /usr/local/lib/python3.11/dist-packages (from transformers) (6.0.2)\n",
            "Requirement already satisfied: regex!=2019.12.17 in /usr/local/lib/python3.11/dist-packages (from transformers) (2024.11.6)\n",
            "Requirement already satisfied: requests in /usr/local/lib/python3.11/dist-packages (from transformers) (2.32.3)\n",
            "Requirement already satisfied: tokenizers<0.22,>=0.21 in /usr/local/lib/python3.11/dist-packages (from transformers) (0.21.0)\n",
            "Requirement already satisfied: safetensors>=0.4.1 in /usr/local/lib/python3.11/dist-packages (from transformers) (0.5.2)\n",
            "Requirement already satisfied: tqdm>=4.27 in /usr/local/lib/python3.11/dist-packages (from transformers) (4.67.1)\n",
            "Requirement already satisfied: fsspec>=2023.5.0 in /usr/local/lib/python3.11/dist-packages (from huggingface-hub<1.0,>=0.24.0->transformers) (2024.10.0)\n",
            "Requirement already satisfied: typing-extensions>=3.7.4.3 in /usr/local/lib/python3.11/dist-packages (from huggingface-hub<1.0,>=0.24.0->transformers) (4.12.2)\n",
            "Requirement already satisfied: charset-normalizer<4,>=2 in /usr/local/lib/python3.11/dist-packages (from requests->transformers) (3.4.1)\n",
            "Requirement already satisfied: idna<4,>=2.5 in /usr/local/lib/python3.11/dist-packages (from requests->transformers) (3.10)\n",
            "Requirement already satisfied: urllib3<3,>=1.21.1 in /usr/local/lib/python3.11/dist-packages (from requests->transformers) (2.3.0)\n",
            "Requirement already satisfied: certifi>=2017.4.17 in /usr/local/lib/python3.11/dist-packages (from requests->transformers) (2024.12.14)\n"
          ]
        }
      ]
    },
    {
      "cell_type": "code",
      "source": [
        "print(len(content))"
      ],
      "metadata": {
        "id": "SfHh2_RS7LFr",
        "outputId": "f0457b73-566f-493a-e075-d9c1b3c87ae3",
        "colab": {
          "base_uri": "https://localhost:8080/"
        }
      },
      "execution_count": 10,
      "outputs": [
        {
          "output_type": "stream",
          "name": "stdout",
          "text": [
            "7233\n"
          ]
        }
      ]
    },
    {
      "cell_type": "code",
      "source": [
        "from transformers import pipeline\n",
        "\n",
        "def summarize_text(text, max_length=512, min_length=150):\n",
        "    summarizer = pipeline(\"summarization\", model=\"facebook/bart-large-cnn\")\n",
        "\n",
        "    # Hugging Face models have a max input limit (~1024 tokens), so truncate if needed\n",
        "    text = text[:1024]  # Trimming long content to fit model limits\n",
        "\n",
        "    summary = summarizer(text, max_length=max_length, min_length=min_length, do_sample=False)\n",
        "\n",
        "    return summary[0]['summary_text']\n",
        "\n",
        "# Example Usage\n",
        "extracted_content = content  # Replace with actual extracted text\n",
        "summary = summarize_text(extracted_content)\n",
        "print(\"Summarized Text:\", summary)"
      ],
      "metadata": {
        "colab": {
          "base_uri": "https://localhost:8080/"
        },
        "id": "EbqRbSrQ4s5i",
        "outputId": "336c2c6b-5328-421f-a291-9055db619bd2"
      },
      "execution_count": 12,
      "outputs": [
        {
          "output_type": "stream",
          "name": "stderr",
          "text": [
            "Device set to use cuda:0\n",
            "Your max_length is set to 512, but your input_length is only 223. Since this is a summarization task, where outputs shorter than the input are typically wanted, you might consider decreasing max_length manually, e.g. summarizer('...', max_length=111)\n"
          ]
        },
        {
          "output_type": "stream",
          "name": "stdout",
          "text": [
            "Summarized Text: UST is a provider of digital technology and transformation, information technology and services, headquartered in Aliso Viejo, California, United States. Stephen Ross founded UST in 1998 in Laguna Hills. The company has offices in the Americas, EMEA, APAC, and India. In June 2018, Temasek, Singapore’s sovereign wealth fund, invested US$250 million in UST, giving UST a US$1 billion-plus valuation.UST offers services in many areas including: cybersecurity, data analytics, data engineering, technology and digital consulting, supply chain management, cloud infrastructure, developer productivity, quality engineering, IT talent sourcing, innovation as a service, legacy modernization, human-centered design, AMS and IOT engineering.\n"
          ]
        }
      ]
    }
  ],
  "metadata": {
    "colab": {
      "name": "Welcome To Colab",
      "provenance": [],
      "gpuType": "T4",
      "include_colab_link": true
    },
    "kernelspec": {
      "display_name": "Python 3",
      "name": "python3"
    },
    "accelerator": "GPU"
  },
  "nbformat": 4,
  "nbformat_minor": 0
}